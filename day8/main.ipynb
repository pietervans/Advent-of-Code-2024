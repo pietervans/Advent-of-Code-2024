{
 "cells": [
  {
   "cell_type": "code",
   "execution_count": 15,
   "metadata": {},
   "outputs": [],
   "source": [
    "with open('input.txt') as f:\n",
    "    lines = f.readlines()\n",
    "\n",
    "grid = [s.strip() for s in lines]"
   ]
  },
  {
   "cell_type": "code",
   "execution_count": 16,
   "metadata": {},
   "outputs": [
    {
     "data": {
      "text/plain": [
       "1266"
      ]
     },
     "execution_count": 16,
     "metadata": {},
     "output_type": "execute_result"
    }
   ],
   "source": [
    "\n",
    "\n",
    "I = len(grid)\n",
    "J = len(grid[0])\n",
    "\n",
    "def get_antinodes(pos1, pos2):\n",
    "    a1, b1 = pos1\n",
    "    a2, b2 = pos2\n",
    "    positions = []\n",
    "    for k in range(max(I,J)+1):\n",
    "        positions.append(\n",
    "            (a2 + k*(a2-a1), b2 + k*(b2-b1))\n",
    "        )\n",
    "        positions.append(\n",
    "            (a1 - k*(a2-a1), b1 - k*(b2-b1))\n",
    "        )\n",
    "    return positions\n",
    "\n",
    "antinode_locations = set()\n",
    "string_all_grid = ''.join(grid)\n",
    "chars = set(string_all_grid)\n",
    "chars.remove('.')\n",
    "for char in chars:\n",
    "    char_positions = []\n",
    "    for i in range(I):\n",
    "        for j in range(J):\n",
    "            if grid[i][j] == char:\n",
    "                char_positions.append((i,j))\n",
    "    # print(f'char {char} positions: {char_positions}')\n",
    "    if len(char_positions) > 1:\n",
    "        for a, pos1 in enumerate(char_positions):\n",
    "            for b in range(a+1, len(char_positions)):\n",
    "                pos2 = char_positions[b]\n",
    "                for antinode in get_antinodes(pos1, pos2):\n",
    "                    if antinode[0] in range(I) and antinode[1] in range(J):\n",
    "                        antinode_locations.add(antinode)\n",
    "len(antinode_locations)"
   ]
  }
 ],
 "metadata": {
  "kernelspec": {
   "display_name": "Python 3",
   "language": "python",
   "name": "python3"
  },
  "language_info": {
   "codemirror_mode": {
    "name": "ipython",
    "version": 3
   },
   "file_extension": ".py",
   "mimetype": "text/x-python",
   "name": "python",
   "nbconvert_exporter": "python",
   "pygments_lexer": "ipython3",
   "version": "3.10.12"
  }
 },
 "nbformat": 4,
 "nbformat_minor": 2
}
