{
 "cells": [
  {
   "cell_type": "code",
   "execution_count": 36,
   "metadata": {},
   "outputs": [],
   "source": [
    "with open('input.txt') as f:\n",
    "    lines = f.readlines()\n",
    "    \n",
    "horizontals = [s.strip() for s in lines]"
   ]
  },
  {
   "cell_type": "code",
   "execution_count": 37,
   "metadata": {},
   "outputs": [],
   "source": [
    "verticals = [[horizontals[i][j] for i in range(len(horizontals))] for j in range(len(horizontals[0]))]\n",
    "verticals = [''.join(l) for l in verticals]"
   ]
  },
  {
   "cell_type": "code",
   "execution_count": 38,
   "metadata": {},
   "outputs": [],
   "source": [
    "diagonals1 = [] # like backslash\n",
    "diagonals2 = [] # like slash\n",
    "for i in range(len(horizontals)):\n",
    "    diagonals1.append([horizontals[k+i][k] for k in range(len(horizontals[0])-i)])\n",
    "    diagonals2.append([horizontals[k+i][-k-1] for k in range(len(horizontals[0])-i)])\n",
    "    \n",
    "for i in range(1, len(horizontals[0])):\n",
    "    diagonals1.append([horizontals[k][k+i] for k in range(len(horizontals[0])-i)])\n",
    "    diagonals2.append([horizontals[k][-k-1-i] for k in range(len(horizontals[0])-i)])\n",
    "\n",
    "diagonals1 = [''.join(l) for l in diagonals1]\n",
    "diagonals2 = [''.join(l) for l in diagonals2]"
   ]
  },
  {
   "cell_type": "code",
   "execution_count": 39,
   "metadata": {},
   "outputs": [
    {
     "data": {
      "text/plain": [
       "2662"
      ]
     },
     "execution_count": 39,
     "metadata": {},
     "output_type": "execute_result"
    }
   ],
   "source": [
    "res = 0\n",
    "for l in [horizontals, verticals, diagonals1, diagonals2]:\n",
    "    for s in l:\n",
    "        res += s.count('XMAS')\n",
    "        res += s.count('SAMX')\n",
    "res"
   ]
  },
  {
   "cell_type": "code",
   "execution_count": 46,
   "metadata": {},
   "outputs": [
    {
     "data": {
      "text/plain": [
       "2034"
      ]
     },
     "execution_count": 46,
     "metadata": {},
     "output_type": "execute_result"
    }
   ],
   "source": [
    "## Second puzzle\n",
    "\n",
    "subsquares = []\n",
    "\n",
    "for i in range(len(horizontals)-2):\n",
    "    for j in range(len(horizontals[0])-2):\n",
    "        subsquares.append(\n",
    "            [\n",
    "                horizontals[i][j:j+3],\n",
    "                horizontals[i+1][j:j+3],\n",
    "                horizontals[i+2][j:j+3],\n",
    "            ]\n",
    "        )\n",
    "\n",
    "res = 0\n",
    "for ss in subsquares:\n",
    "    if ss[1][1] == 'A' and set([ss[0][0], ss[2][2]]) == set(['M', 'S']) and set([ss[2][0], ss[0][2]]) == set(['M', 'S']):\n",
    "        res += 1\n",
    "\n",
    "res\n",
    "    "
   ]
  }
 ],
 "metadata": {
  "kernelspec": {
   "display_name": "Python 3",
   "language": "python",
   "name": "python3"
  },
  "language_info": {
   "codemirror_mode": {
    "name": "ipython",
    "version": 3
   },
   "file_extension": ".py",
   "mimetype": "text/x-python",
   "name": "python",
   "nbconvert_exporter": "python",
   "pygments_lexer": "ipython3",
   "version": "3.10.12"
  }
 },
 "nbformat": 4,
 "nbformat_minor": 2
}
