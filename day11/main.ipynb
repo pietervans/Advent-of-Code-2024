{
 "cells": [
  {
   "cell_type": "code",
   "execution_count": 26,
   "metadata": {},
   "outputs": [],
   "source": [
    "stones = [70949, 6183, 4, 3825336, 613971, 0, 15, 182]\n",
    "# stones = [125, 17]"
   ]
  },
  {
   "cell_type": "code",
   "execution_count": null,
   "metadata": {},
   "outputs": [
    {
     "name": "stderr",
     "output_type": "stream",
     "text": [
      "  0%|          | 0/75 [00:00<?, ?it/s]"
     ]
    },
    {
     "name": "stderr",
     "output_type": "stream",
     "text": [
      "100%|██████████| 75/75 [00:00<00:00, 154.99it/s]"
     ]
    },
    {
     "name": "stdout",
     "output_type": "stream",
     "text": [
      "221280540398419\n"
     ]
    },
    {
     "name": "stderr",
     "output_type": "stream",
     "text": [
      "\n"
     ]
    }
   ],
   "source": [
    "from tqdm import tqdm\n",
    "from collections import Counter\n",
    "\n",
    "stones_with_counts = Counter(stones)\n",
    "\n",
    "for i in tqdm(range(75)):\n",
    "    \n",
    "    new_stones_with_counts = dict()\n",
    "    for stone, count in stones_with_counts.items():\n",
    "        if stone == 0:\n",
    "            new_stones_with_counts[1] = new_stones_with_counts.get(1, 0)+count\n",
    "            continue\n",
    "        stone_str = str(stone)\n",
    "        if len(stone_str)%2 == 0:\n",
    "            half1 = stone_str[:len(stone_str)//2]\n",
    "            half2 = stone_str[len(stone_str)//2:]\n",
    "            n1, n2 = int(half1), int(half2)\n",
    "            new_stones_with_counts[n1] = new_stones_with_counts.get(n1, 0) + count\n",
    "            new_stones_with_counts[n2] = new_stones_with_counts.get(n2, 0) + count\n",
    "        else:\n",
    "            new_val = stone*2024\n",
    "            new_stones_with_counts[new_val] = new_stones_with_counts.get(new_val, 0) + count\n",
    "    stones_with_counts = new_stones_with_counts\n",
    "\n",
    "print(sum(stones_with_counts.values()))\n"
   ]
  }
 ],
 "metadata": {
  "kernelspec": {
   "display_name": "Python 3",
   "language": "python",
   "name": "python3"
  },
  "language_info": {
   "codemirror_mode": {
    "name": "ipython",
    "version": 3
   },
   "file_extension": ".py",
   "mimetype": "text/x-python",
   "name": "python",
   "nbconvert_exporter": "python",
   "pygments_lexer": "ipython3",
   "version": "3.10.12"
  }
 },
 "nbformat": 4,
 "nbformat_minor": 2
}
