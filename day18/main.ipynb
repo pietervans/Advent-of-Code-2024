{
 "cells": [
  {
   "cell_type": "code",
   "execution_count": 74,
   "metadata": {},
   "outputs": [
    {
     "data": {
      "text/plain": [
       "3450"
      ]
     },
     "execution_count": 74,
     "metadata": {},
     "output_type": "execute_result"
    }
   ],
   "source": [
    "with open('input.txt') as f:\n",
    "# with open('input_test.txt') as f:\n",
    "    lines = f.readlines()\n",
    "\n",
    "N = 70\n",
    "# N = 6\n",
    "\n",
    "positions = []\n",
    "for l in lines:\n",
    "    n1,n2 = l.strip().split(',')\n",
    "    positions.append( (int(n1), int(n2)) )\n",
    "\n",
    "len(positions)"
   ]
  },
  {
   "cell_type": "code",
   "execution_count": 75,
   "metadata": {},
   "outputs": [],
   "source": [
    "# positions_corrupted = positions[:1024]\n",
    "# positions_corrupted = positions[:12]"
   ]
  },
  {
   "cell_type": "code",
   "execution_count": 76,
   "metadata": {},
   "outputs": [],
   "source": [
    "directions = [(0,1), (1,0), (0,-1), (-1,0)]\n",
    "\n",
    "def plus(pos1, pos2):\n",
    "    return ((pos1[0]+pos2[0]), (pos1[1]+pos2[1]))\n",
    "\n",
    "def mult(pos, n):\n",
    "    return (pos[0]*n, pos[1]*n)\n",
    "\n",
    "def is_blocked(pos):\n",
    "    global positions_corrupted\n",
    "    return pos in positions_corrupted or \\\n",
    "        pos[0] not in range(N+1) or \\\n",
    "        pos[1] not in range(N+1)\n",
    "\n",
    "\n",
    "def find_exit(pos, path):\n",
    "    global positions_corrupted, minimum_costs, goal_pos, max_len\n",
    "    # print(path[-1])\n",
    "    if pos == goal_pos:\n",
    "        return len(path)-1\n",
    "    if len(path) > max_len:\n",
    "        return max_len\n",
    "    \n",
    "    options = [max_len]\n",
    "    for direction in directions:\n",
    "        new_pos = plus(pos, direction)\n",
    "        if is_blocked(new_pos) or new_pos in path:\n",
    "            continue\n",
    "        if len(path) >= minimum_costs.get(new_pos, max_len):\n",
    "            continue\n",
    "        minimum_costs[new_pos] = len(path)\n",
    "        new_path = list(path)\n",
    "        new_path.append(new_pos)\n",
    "        options.append( find_exit(new_pos, new_path) )\n",
    "    \n",
    "    return min(options)\n",
    "\n",
    "def path_exists(nb_corrupted):\n",
    "    global positions_corrupted, minimum_costs, goal_pos, max_len\n",
    "    positions_corrupted = positions[:nb_corrupted]\n",
    "    max_len = 70*14\n",
    "    goal_pos = (N, N)\n",
    "        \n",
    "    minimum_costs = {\n",
    "        (0,0): 0\n",
    "    }\n",
    "    start_pos = (0,0)\n",
    "    \n",
    "    steps = find_exit( start_pos, [start_pos] )\n",
    "    print(steps)\n",
    "    return steps < max_len\n",
    "\n",
    "    \n",
    "# path_exists(1024)"
   ]
  },
  {
   "cell_type": "code",
   "execution_count": 77,
   "metadata": {},
   "outputs": [
    {
     "name": "stdout",
     "output_type": "stream",
     "text": [
      "0 3450\n",
      "282\n",
      "1725 3450\n",
      "880\n",
      "2587 3450\n",
      "980\n",
      "2587 3018\n",
      "880\n",
      "2802 3018\n",
      "880\n",
      "2910 3018\n",
      "880\n",
      "2964 3018\n",
      "980\n",
      "2964 2991\n",
      "880\n",
      "2977 2991\n",
      "880\n",
      "2984 2991\n",
      "880\n",
      "2987 2991\n",
      "880\n",
      "2989 2991\n",
      "880\n",
      "Range: 2990 2991\n",
      "43,12\n"
     ]
    }
   ],
   "source": [
    "nb_positions = len(positions)\n",
    "min_nb = 0\n",
    "max_nb = nb_positions\n",
    "\n",
    "while max_nb > min_nb+1:\n",
    "    print(min_nb, max_nb)\n",
    "    \n",
    "    mid_nb = (min_nb+max_nb)//2\n",
    "    if path_exists(mid_nb):\n",
    "        min_nb = mid_nb\n",
    "    else:\n",
    "        max_nb = mid_nb\n",
    "\n",
    "\n",
    "\n",
    "print('Range:', min_nb, max_nb)\n",
    "\n",
    "print(f'{positions[min_nb][0]},{positions[min_nb][1]}')"
   ]
  }
 ],
 "metadata": {
  "kernelspec": {
   "display_name": "Python 3",
   "language": "python",
   "name": "python3"
  },
  "language_info": {
   "codemirror_mode": {
    "name": "ipython",
    "version": 3
   },
   "file_extension": ".py",
   "mimetype": "text/x-python",
   "name": "python",
   "nbconvert_exporter": "python",
   "pygments_lexer": "ipython3",
   "version": "3.10.12"
  }
 },
 "nbformat": 4,
 "nbformat_minor": 2
}
