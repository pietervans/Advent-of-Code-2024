{
 "cells": [
  {
   "cell_type": "code",
   "execution_count": 10,
   "metadata": {},
   "outputs": [],
   "source": [
    "with open('input.txt') as f:\n",
    "    lines = f.readlines()\n",
    "grid = [s.strip() for s in lines]"
   ]
  },
  {
   "cell_type": "code",
   "execution_count": 11,
   "metadata": {},
   "outputs": [],
   "source": [
    "I = len(grid)\n",
    "J = len(grid[0])\n",
    "\n",
    "for i, row in enumerate(grid):\n",
    "    j = row.find('^')\n",
    "    if j != -1:\n",
    "        break\n",
    "current_pos_initial = (i,j)"
   ]
  },
  {
   "cell_type": "code",
   "execution_count": 12,
   "metadata": {},
   "outputs": [
    {
     "data": {
      "text/plain": [
       "5239"
      ]
     },
     "execution_count": 12,
     "metadata": {},
     "output_type": "execute_result"
    }
   ],
   "source": [
    "directions = [(-1, 0), (0, 1), (1, 0), (0, -1)]\n",
    "direction_index_initial = 0\n",
    "direction_index = direction_index_initial\n",
    "current_pos = current_pos_initial\n",
    "visited = set([current_pos])\n",
    "\n",
    "def add(p1, p2):\n",
    "    return (p1[0]+p2[0], p1[1]+p2[1])\n",
    "\n",
    "def is_outside_grid(pos):\n",
    "    return pos[0] in [-1, I] or pos[1] in [-1, J]\n",
    "\n",
    "def is_blocked(pos, grid):\n",
    "    return grid[pos[0]][pos[1]] == '#'\n",
    "\n",
    "while True:\n",
    "    new_pos = add(current_pos, directions[direction_index])\n",
    "    if is_outside_grid(new_pos):\n",
    "        break\n",
    "    if is_blocked(new_pos, grid):\n",
    "        direction_index = (direction_index+1)%4\n",
    "        continue\n",
    "    current_pos = new_pos\n",
    "    visited.add(current_pos)\n",
    "\n",
    "len(visited)"
   ]
  },
  {
   "cell_type": "code",
   "execution_count": null,
   "metadata": {},
   "outputs": [
    {
     "ename": "KeyboardInterrupt",
     "evalue": "",
     "output_type": "error",
     "traceback": [
      "\u001b[0;31m---------------------------------------------------------------------------\u001b[0m",
      "\u001b[0;31mKeyboardInterrupt\u001b[0m                         Traceback (most recent call last)",
      "Cell \u001b[0;32mIn [13], line 20\u001b[0m\n\u001b[1;32m     18\u001b[0m visited_with_direction \u001b[38;5;241m=\u001b[39m \u001b[38;5;28mset\u001b[39m([(current_pos_initial, direction_index_initial)])\n\u001b[1;32m     19\u001b[0m \u001b[38;5;28;01mwhile\u001b[39;00m \u001b[38;5;28;01mTrue\u001b[39;00m:\n\u001b[0;32m---> 20\u001b[0m     new_pos \u001b[38;5;241m=\u001b[39m add(current_pos, directions[direction_index])\n\u001b[1;32m     21\u001b[0m     \u001b[38;5;28;01mif\u001b[39;00m is_outside_grid(new_pos):\n\u001b[1;32m     22\u001b[0m         \u001b[38;5;28;01mbreak\u001b[39;00m\n",
      "\u001b[0;31mKeyboardInterrupt\u001b[0m: "
     ]
    }
   ],
   "source": [
    "## Part 2\n",
    "\n",
    "res_count = 0\n",
    "\n",
    "for i_block in range(I):\n",
    "    for j_block in range(J):\n",
    "        print(f'Step {i_block*J + j_block}/{I*J}')\n",
    "        # Check if can add block\n",
    "        if is_blocked((i_block, j_block), grid):\n",
    "            continue\n",
    "        if (i_block, j_block) == current_pos_initial:\n",
    "            continue\n",
    "        # Add block in position\n",
    "        # print(f'Adding block in {i_block,j_block}')\n",
    "        grid[i_block] = grid[i_block][:j_block] + '#' + grid[i_block][j_block+1:]\n",
    "        \n",
    "        current_pos = current_pos_initial\n",
    "        direction_index = direction_index_initial\n",
    "        visited_with_direction = set([(current_pos_initial, direction_index_initial)])\n",
    "        while True:\n",
    "            new_pos = add(current_pos, directions[direction_index])\n",
    "            if is_outside_grid(new_pos):\n",
    "                break\n",
    "            if is_blocked(new_pos, grid):\n",
    "                direction_index = (direction_index+1)%4\n",
    "                continue\n",
    "            \n",
    "            current_pos = new_pos\n",
    "            if (current_pos, direction_index) in visited_with_direction:\n",
    "                res_count += 1\n",
    "                break\n",
    "            visited_with_direction.add((current_pos, direction_index))\n",
    "        \n",
    "        grid[i_block] = grid[i_block][:j_block] + '.' + grid[i_block][j_block+1:] # Revert change to grid\n",
    "\n",
    "res_count"
   ]
  }
 ],
 "metadata": {
  "kernelspec": {
   "display_name": "Python 3",
   "language": "python",
   "name": "python3"
  },
  "language_info": {
   "codemirror_mode": {
    "name": "ipython",
    "version": 3
   },
   "file_extension": ".py",
   "mimetype": "text/x-python",
   "name": "python",
   "nbconvert_exporter": "python",
   "pygments_lexer": "ipython3",
   "version": "3.10.12"
  }
 },
 "nbformat": 4,
 "nbformat_minor": 2
}
