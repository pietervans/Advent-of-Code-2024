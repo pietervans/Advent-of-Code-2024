{
 "cells": [
  {
   "cell_type": "code",
   "execution_count": 68,
   "metadata": {},
   "outputs": [],
   "source": [
    "with open('input.txt') as f:\n",
    "    lines = f.readlines()\n",
    "\n",
    "pairs = []\n",
    "updates = []\n",
    "second_part = False\n",
    "for l in lines:\n",
    "    if l.strip() == '':\n",
    "        second_part = True\n",
    "        continue\n",
    "    if not second_part:\n",
    "        pairs.append([int(s) for s in l.strip().split('|')])\n",
    "    else:\n",
    "        updates.append([int(s) for s in l.strip().split(',')])"
   ]
  },
  {
   "cell_type": "code",
   "execution_count": null,
   "metadata": {},
   "outputs": [],
   "source": [
    "def sort_update(u):\n",
    "    for i,ni in enumerate(u):\n",
    "        for j,nj in enumerate(u[i+1:]):\n",
    "            if [nj,ni] in pairs:\n",
    "                u[i] = nj\n",
    "                u[i+1+j] = ni\n",
    "                return sort_update(u)\n",
    "    return u\n",
    "    "
   ]
  },
  {
   "cell_type": "code",
   "execution_count": null,
   "metadata": {},
   "outputs": [
    {
     "data": {
      "text/plain": [
       "4030"
      ]
     },
     "execution_count": 70,
     "metadata": {},
     "output_type": "execute_result"
    }
   ],
   "source": [
    "count = 0\n",
    "for u in updates:\n",
    "    \n",
    "    found_violation = False\n",
    "    for i,n1 in enumerate(u):\n",
    "        for j,n2 in enumerate(u[i+1:]):\n",
    "            if [n2,n1] in pairs:\n",
    "                found_violation = True\n",
    "        \n",
    "    if found_violation:\n",
    "        u = sort_update(u)\n",
    "        count += u[len(u)//2]\n",
    "\n",
    "count"
   ]
  }
 ],
 "metadata": {
  "kernelspec": {
   "display_name": "Python 3",
   "language": "python",
   "name": "python3"
  },
  "language_info": {
   "codemirror_mode": {
    "name": "ipython",
    "version": 3
   },
   "file_extension": ".py",
   "mimetype": "text/x-python",
   "name": "python",
   "nbconvert_exporter": "python",
   "pygments_lexer": "ipython3",
   "version": "3.10.12"
  }
 },
 "nbformat": 4,
 "nbformat_minor": 2
}
