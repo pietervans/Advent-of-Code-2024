{
 "cells": [
  {
   "cell_type": "code",
   "execution_count": 40,
   "metadata": {},
   "outputs": [],
   "source": [
    "with open('input.txt') as f:\n",
    "    lines = f.readlines()\n",
    "\n",
    "grid = [[int(c) for c in s.strip()] for s in lines]\n",
    "# grid"
   ]
  },
  {
   "cell_type": "code",
   "execution_count": 41,
   "metadata": {},
   "outputs": [
    {
     "data": {
      "text/plain": [
       "489"
      ]
     },
     "execution_count": 41,
     "metadata": {},
     "output_type": "execute_result"
    }
   ],
   "source": [
    "I = len(grid)\n",
    "J = len(grid[0])\n",
    "\n",
    "def get_height(position):\n",
    "    return grid[position[0]][position[1]]\n",
    "    \n",
    "def is_inside_grid(position):\n",
    "    return position[0] in range(I) and position[1] in range(J)\n",
    "\n",
    "def is_trail_down(candidate_position, current_position):\n",
    "    return is_inside_grid(candidate_position) and get_height(candidate_position)==get_height(current_position)-1\n",
    "\n",
    "def get_neighbours(position):\n",
    "    return [\n",
    "        (position[0]+1, position[1]),\n",
    "        (position[0]-1, position[1]),\n",
    "        (position[0],   position[1]+1),\n",
    "        (position[0],   position[1]-1)\n",
    "    ]\n",
    "\n",
    "def exists_path_to_position(zero_position, current_position):\n",
    "    # Return True if there's a hiking trail to the given zero_position\n",
    "    \n",
    "    if current_position == zero_position:\n",
    "        return True\n",
    "    \n",
    "    booleans_intermediate = []\n",
    "    # print(f'Trails for {current_position}:', 'height', get_height(current_position))\n",
    "    for pos_neighbour in get_neighbours(current_position):\n",
    "        if is_trail_down(pos_neighbour, current_position):\n",
    "            # print('neighbour', pos_neighbour, 'height', get_height(pos_neighbour))\n",
    "            booleans_intermediate.append(exists_path_to_position(zero_position, pos_neighbour))\n",
    "    return any(booleans_intermediate)\n",
    "\n",
    "positions_9 = []\n",
    "for i in range(I):\n",
    "    for j in range(J):\n",
    "        if grid[i][j] == 9:\n",
    "            positions_9.append((i,j))\n",
    "\n",
    "# exists_path_to_position((0,2), (4,5))\n",
    "\n",
    "res = 0\n",
    "\n",
    "for i in range(I):\n",
    "    for j in range(J):\n",
    "        if grid[i][j] == 0:\n",
    "            for k,l in positions_9:\n",
    "                if exists_path_to_position((i,j), (k,l)):\n",
    "                    res += 1\n",
    "\n",
    "res\n"
   ]
  },
  {
   "cell_type": "code",
   "execution_count": 42,
   "metadata": {},
   "outputs": [
    {
     "data": {
      "text/plain": [
       "1086"
      ]
     },
     "execution_count": 42,
     "metadata": {},
     "output_type": "execute_result"
    }
   ],
   "source": [
    "## Part 2\n",
    "\n",
    "def count_paths_to_position(zero_position, current_position):\n",
    "    # Return the number of hiking trails to the given zero_position\n",
    "    \n",
    "    if current_position == zero_position:\n",
    "        return 1\n",
    "    \n",
    "    counts_intermediate = []\n",
    "    # print(f'Trails for {current_position}:', 'height', get_height(current_position))\n",
    "    for pos_neighbour in get_neighbours(current_position):\n",
    "        if is_trail_down(pos_neighbour, current_position):\n",
    "            # print('neighbour', pos_neighbour, 'height', get_height(pos_neighbour))\n",
    "            counts_intermediate.append(count_paths_to_position(zero_position, pos_neighbour))\n",
    "    return sum(counts_intermediate)\n",
    "\n",
    "# count_paths_to_position((0,2), (4,5))\n",
    "\n",
    "\n",
    "res = 0\n",
    "\n",
    "for i in range(I):\n",
    "    for j in range(J):\n",
    "        if grid[i][j] == 0:\n",
    "            for k,l in positions_9:\n",
    "                res += count_paths_to_position((i,j), (k,l))\n",
    "\n",
    "res\n"
   ]
  }
 ],
 "metadata": {
  "kernelspec": {
   "display_name": "Python 3",
   "language": "python",
   "name": "python3"
  },
  "language_info": {
   "codemirror_mode": {
    "name": "ipython",
    "version": 3
   },
   "file_extension": ".py",
   "mimetype": "text/x-python",
   "name": "python",
   "nbconvert_exporter": "python",
   "pygments_lexer": "ipython3",
   "version": "3.10.12"
  }
 },
 "nbformat": 4,
 "nbformat_minor": 2
}
