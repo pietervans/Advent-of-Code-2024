{
 "cells": [
  {
   "cell_type": "code",
   "execution_count": 1,
   "metadata": {},
   "outputs": [],
   "source": [
    "\n",
    "with open('input.txt') as f:\n",
    "    lines = f.readlines()\n",
    "\n",
    "list_tuples = [l.strip().split(' ') for l in lines]\n",
    "\n",
    "reports = [[int(e) for e in t] for t in list_tuples]"
   ]
  },
  {
   "cell_type": "code",
   "execution_count": 7,
   "metadata": {},
   "outputs": [
    {
     "data": {
      "text/plain": [
       "561"
      ]
     },
     "execution_count": 7,
     "metadata": {},
     "output_type": "execute_result"
    }
   ],
   "source": [
    "res = 0\n",
    "\n",
    "def get_success(report):\n",
    "    l_diff = [e2-e1 for e2,e1 in zip(report[1:], report[:-1])]\n",
    "    \n",
    "    if min(l_diff) >= -3 and max(l_diff) <= -1:\n",
    "        return True\n",
    "    elif min(l_diff) >= 1 and max(l_diff) <= 3:\n",
    "        return True\n",
    "    return False\n",
    "\n",
    "\n",
    "for report in reports:\n",
    "    \n",
    "    if get_success(report):\n",
    "        res += 1\n",
    "    \n",
    "    else:\n",
    "        \n",
    "        for i in range(len(report)):\n",
    "            report_trimmed = report[:i] + report[i+1:]\n",
    "            if get_success(report_trimmed):\n",
    "                res += 1\n",
    "                break\n",
    "            \n",
    "\n",
    "res"
   ]
  }
 ],
 "metadata": {
  "kernelspec": {
   "display_name": "Python 3",
   "language": "python",
   "name": "python3"
  },
  "language_info": {
   "codemirror_mode": {
    "name": "ipython",
    "version": 3
   },
   "file_extension": ".py",
   "mimetype": "text/x-python",
   "name": "python",
   "nbconvert_exporter": "python",
   "pygments_lexer": "ipython3",
   "version": "3.10.12"
  }
 },
 "nbformat": 4,
 "nbformat_minor": 2
}
