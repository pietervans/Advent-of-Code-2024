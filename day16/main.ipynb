{
 "cells": [
  {
   "cell_type": "code",
   "execution_count": 87,
   "metadata": {},
   "outputs": [],
   "source": [
    "with open('input.txt') as f:\n",
    "# with open('input_test.txt') as f:\n",
    "# with open('input_test2.txt') as f:\n",
    "    lines = f.readlines()\n",
    "\n",
    "grid = [s.strip() for s in lines]"
   ]
  },
  {
   "cell_type": "code",
   "execution_count": 88,
   "metadata": {},
   "outputs": [],
   "source": [
    "I = len(grid)\n",
    "J = len(grid[0])\n",
    "\n",
    "for i in range(I):\n",
    "    for j in range(J):\n",
    "        if grid[i][j] == 'S':\n",
    "            start_pos = (i,j)\n",
    "\n",
    "directions = [(0,1), (1,0), (0,-1), (-1,0)]\n",
    "start_dir = 0"
   ]
  },
  {
   "cell_type": "code",
   "execution_count": 89,
   "metadata": {},
   "outputs": [],
   "source": [
    "def plus(pos1, pos2):\n",
    "    return ((pos1[0]+pos2[0]), (pos1[1]+pos2[1]))\n",
    "\n",
    "def mult(pos, n):\n",
    "    return (pos[0]*n, pos[1]*n)\n",
    "\n",
    "def get_symbol(pos):\n",
    "    return grid[pos[0]][pos[1]]\n",
    "\n",
    "minimum_scores_to_reach = {\n",
    "    (start_pos, start_dir): 0\n",
    "}\n",
    "\n",
    "paths = []\n",
    "\n",
    "max_score = 10**5\n",
    "def find_best_route(current_pos=start_pos, current_dir=start_dir, current_score=0, history=[start_pos]):\n",
    "    \n",
    "    if current_score > max_score:\n",
    "        return max_score\n",
    "    \n",
    "    if get_symbol(current_pos) == 'E':\n",
    "        paths.append( (history, current_score) )\n",
    "        return current_score\n",
    "    \n",
    "    score_options = []\n",
    "    for dir in [(current_dir + offset) % 4 for offset in [-1, 0,1]]:\n",
    "        new_pos = plus(current_pos, directions[dir])\n",
    "        if get_symbol(new_pos) == '#' or new_pos in history:\n",
    "            continue\n",
    "        score = current_score + 1\n",
    "        if dir != current_dir:\n",
    "            score += 1000\n",
    "        if score > minimum_scores_to_reach.get((new_pos, dir), max_score):\n",
    "            continue\n",
    "        minimum_scores_to_reach[(new_pos, dir)] = score\n",
    "        \n",
    "        new_history = list(history)\n",
    "        new_history.append(new_pos)\n",
    "        score_options.append( find_best_route(new_pos, dir, score, new_history) )\n",
    "    if score_options:\n",
    "        return min(score_options)\n",
    "    else:\n",
    "        return max_score\n",
    "\n",
    "best_score = find_best_route()"
   ]
  },
  {
   "cell_type": "code",
   "execution_count": 90,
   "metadata": {},
   "outputs": [
    {
     "data": {
      "text/plain": [
       "428"
      ]
     },
     "execution_count": 90,
     "metadata": {},
     "output_type": "execute_result"
    }
   ],
   "source": [
    "best_positions = set()\n",
    "\n",
    "for hist, score in paths:\n",
    "    if score == best_score:\n",
    "        best_positions = best_positions | set(hist)\n",
    "\n",
    "len(best_positions)"
   ]
  }
 ],
 "metadata": {
  "kernelspec": {
   "display_name": "Python 3",
   "language": "python",
   "name": "python3"
  },
  "language_info": {
   "codemirror_mode": {
    "name": "ipython",
    "version": 3
   },
   "file_extension": ".py",
   "mimetype": "text/x-python",
   "name": "python",
   "nbconvert_exporter": "python",
   "pygments_lexer": "ipython3",
   "version": "3.10.12"
  }
 },
 "nbformat": 4,
 "nbformat_minor": 2
}
