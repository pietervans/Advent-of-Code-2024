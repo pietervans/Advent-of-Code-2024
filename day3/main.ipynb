{
 "cells": [
  {
   "cell_type": "code",
   "execution_count": 13,
   "metadata": {},
   "outputs": [],
   "source": [
    "import re\n",
    "# docs: https://regex101.com/"
   ]
  },
  {
   "cell_type": "code",
   "execution_count": 14,
   "metadata": {},
   "outputs": [],
   "source": [
    "with open('input.txt') as f:\n",
    "    lines = f.readlines()\n",
    "\n",
    "text = ''\n",
    "for l in lines:\n",
    "    text += l"
   ]
  },
  {
   "cell_type": "code",
   "execution_count": 15,
   "metadata": {},
   "outputs": [
    {
     "data": {
      "text/plain": [
       "164730528"
      ]
     },
     "execution_count": 15,
     "metadata": {},
     "output_type": "execute_result"
    }
   ],
   "source": [
    "## Part 1\n",
    "\n",
    "def get_score(text_in):\n",
    "    nums_doubles = [(int(a), int(b)) for a,b in re.findall(r'mul\\((\\d+),(\\d+)\\)', text_in)]\n",
    "    res = 0\n",
    "    for double in nums_doubles:\n",
    "        res += double[0]*double[1]\n",
    "    return res\n",
    "\n",
    "get_score(text)"
   ]
  },
  {
   "cell_type": "code",
   "execution_count": 20,
   "metadata": {},
   "outputs": [
    {
     "name": "stdout",
     "output_type": "stream",
     "text": [
      "text_to_process=<;'mul(234,359)who()-who():where()}%what()(when()mul(260,344)}[$*{&from()?]>mul(87,298)what()&+)who()(!#!when()mul(407,173)who(952,771)how()@!?what()]#mul(763,519)'from()$when()%mul(258,409)<)mul(703,155)who()who()<!!mul(423,685)%<?what()how()!,mul(647,758){'mul(595,333)';mul(228,760)~what()@when()who(617,201){{mul(403,912)when()-}(^[^;mul(513,464)where()mul(154,341),$~#^/ mul(469,16)^mul(328,795) from()what()who()when()from()mul(547,469)how()}<?#(/mul(365,823)where();]^^@{(mul(211,19)from()?-+?;@how()where(921,941)mul(816,990)/#)<when():<:'mul(698,62)&~@)+^&$mul(485,158)why()<when(),how()>when()-^}mul(736,421)^<^@?]#;mul(817,275))do()from()how()@where()<@mul(909,873)]:\n",
      "text_rest=* when()#mul(677,661)what()?mul(688,941),!what(),who()?(who()mul(954,807)!'why()mul(414,536)'who()mul(614,164)mul(941,169){>:mul(755,577)@;!'^@{+mul(640,716)from()from()!where()where(503,241)(&mul(155,305)>([when())select()who(),>,mul(624,695);,what()[]select()!where()who()$mul(100,414)]where()how()!^:who()do())mul(116,506){<%/mul(922,523);why()&mul(850,674)[>^<$;select()what() mul(671,568))why()~?**[*how()mul(920,910)^^-@what()mul(783,710) ]#who():who()mul(492,190):%<how()mul(432,182)[%?mul(758,818)%+!@~mul(241,233)^mul(557,142)^?where()what()why()mul(400,622)%)$mul(251,504){#>+&+(how()#mul(771,755)~mul(709,707)<$[<~}why()[what()[don't()%(^mul(987,332)-]%+]<}who()!mul(144,70)~;*<:mul(218,330);*}what()who()mul(334,779)[@select()where(631,792),)mul(508,632))%;!what()select())>mul(411,371)(?who()select()>?:mul(526,934)mul(804,300)\n",
      "text_to_process=* when()#mul(677,661)what()?mul(688,941),!what(),who()?(who()mul(954,807)!'why()mul(414,536)'who()mul(614,164)mul(941,169){>:mul(755,577)@;!'^@{+mul(640,716)from()from()!where()where(503,241)(&mul(155,305)>([when())select()who(),>,mul(624,695);,what()[]select()!where()who()$mul(100,414)]where()how()!^:who()do())mul(116,506){<%/mul(922,523);why()&mul(850,674)[>^<$;select()what() mul(671,568))why()~?**[*how()mul(920,910)^^-@what()mul(783,710) ]#who():who()mul(492,190):%<how()mul(432,182)[%?mul(758,818)%+!@~mul(241,233)^mul(557,142)^?where()what()why()mul(400,622)%)$mul(251,504){#>+&+(how()#mul(771,755)~mul(709,707)<$[<~}why()[what()[\n"
     ]
    },
    {
     "data": {
      "text/plain": [
       "14811759"
      ]
     },
     "execution_count": 20,
     "metadata": {},
     "output_type": "execute_result"
    }
   ],
   "source": [
    "## Part 2\n",
    "\n",
    "def process_text(text):\n",
    "    match_object = re.search(r\"(.*?)(don't\\(\\).*?)+do\\(\\)(.*)\", text)\n",
    "    if match_object:\n",
    "        text_to_process = match_object.group(1)\n",
    "        text_rest = match_object.group(3)\n",
    "        print(f'text_to_process={text_to_process}\\ntext_rest={text_rest}')\n",
    "        return get_score(text_to_process) + process_text(text_rest)\n",
    "            \n",
    "    match_object2 = re.search(r\"(.*?)don't\\(\\).*\", text)\n",
    "    if match_object2:\n",
    "        text_to_process = match_object2.group(1)\n",
    "        print(f'text_to_process={text_to_process}')\n",
    "        return get_score(text_to_process)\n",
    "    \n",
    "    print(f'text={text}')\n",
    "    return get_score(text)\n",
    "\n",
    "process_text(text)\n",
    "\n"
   ]
  }
 ],
 "metadata": {
  "kernelspec": {
   "display_name": "Python 3",
   "language": "python",
   "name": "python3"
  },
  "language_info": {
   "codemirror_mode": {
    "name": "ipython",
    "version": 3
   },
   "file_extension": ".py",
   "mimetype": "text/x-python",
   "name": "python",
   "nbconvert_exporter": "python",
   "pygments_lexer": "ipython3",
   "version": "3.10.12"
  }
 },
 "nbformat": 4,
 "nbformat_minor": 2
}
